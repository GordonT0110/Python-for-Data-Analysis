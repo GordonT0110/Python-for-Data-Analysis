{
 "cells": [
  {
   "cell_type": "code",
   "execution_count": 1,
   "metadata": {},
   "outputs": [],
   "source": [
    "import numpy as np\n",
    "import pandas as pd\n",
    "import matplotlib.pyplot as plt\n",
    "%matplotlib inline"
   ]
  },
  {
   "cell_type": "markdown",
   "metadata": {},
   "source": [
    "### The ndarray\n",
    "\n",
    "1. n dimensional array \n",
    "2. dtype show the type of the array\n",
    "3. shape show the shape of the array"
   ]
  },
  {
   "cell_type": "code",
   "execution_count": 4,
   "metadata": {},
   "outputs": [
    {
     "data": {
      "text/plain": [
       "array([ 0,  1,  2,  3,  4,  5,  6,  7,  8,  9, 10, 11, 12, 13, 14])"
      ]
     },
     "execution_count": 4,
     "metadata": {},
     "output_type": "execute_result"
    }
   ],
   "source": [
    "#Create ndarray\n",
    "data1 = [6, 7, 8, 9.5]\n",
    "arr1 = np.array(data1)  # use np.array to create a new ndarray\n",
    "# it will also automatically choose the array type unless you specify\n",
    "data2 = [[1, 2, 3,], [5, 6, 7]]\n",
    "arr2 = np.array(data2)\n",
    "arr2.ndim  # check the dimension of the array\n",
    "arr1.ndim\n",
    "# all zero array\n",
    "arr0 = np.zeros(10)\n",
    "arr11 = np.ones(10)\n",
    "# for multiple dimension array\n",
    "np.empty((2,4))\n",
    "# the empty will not create all zero array but some random trash value\n",
    "# np.arange is just like range but in ndarray\n",
    "np.arange(15)\n",
    "# for numpy the default type is float64"
   ]
  },
  {
   "cell_type": "markdown",
   "metadata": {},
   "source": [
    "#### The functions to create ndarray"
   ]
  },
  {
   "cell_type": "code",
   "execution_count": 5,
   "metadata": {},
   "outputs": [
    {
     "data": {
      "text/plain": [
       "array([[1., 0.],\n",
       "       [0., 1.]])"
      ]
     },
     "execution_count": 5,
     "metadata": {},
     "output_type": "execute_result"
    }
   ],
   "source": [
    "# just pass all serilized data like list, array, tuple\n",
    "np.array([1,2,3,4])\n",
    "np.array((2,3,4,5))\n",
    "# make input as a ndarray, if it is already a ndarray, it will not be copied!\n",
    "np.asarray([1,2,3,4])\n",
    "# create zero or one array or empyt array\n",
    "np.zeros(10)\n",
    "np.ones(10)\n",
    "# use zeros_like or ones_like or empty array to create ndarray by other array structure\n",
    "np.zeros_like(data1)\n",
    "np.ones_like(data2)\n",
    "# use eye or identity to create identity matrix\n",
    "np.eye(2)"
   ]
  },
  {
   "cell_type": "markdown",
   "metadata": {},
   "source": [
    "#### the type of ndarray\n",
    "\n",
    "1. It would make a bunk of memory as specified data type\n",
    "2. int8, int16, int32, int64 (uint same)\n",
    "3. float16, float32, float64, float128\n",
    "4. complex64, complex128, complex256\n",
    "5. bool\n",
    "6. object\n",
    "7. string_ (the length of the string is fixed, you can specify)\n",
    "9. unicode"
   ]
  },
  {
   "cell_type": "code",
   "execution_count": 6,
   "metadata": {},
   "outputs": [
    {
     "data": {
      "text/plain": [
       "dtype('float64')"
      ]
     },
     "execution_count": 6,
     "metadata": {},
     "output_type": "execute_result"
    }
   ],
   "source": [
    "arr1 = np.array([1, 2, 3], dtype=np.int32)\n",
    "arr1.dtype\n",
    "arr2 = np.array([1, 2, 3], dtype=np.float64)\n",
    "arr2.dtype"
   ]
  },
  {
   "cell_type": "code",
   "execution_count": 7,
   "metadata": {},
   "outputs": [
    {
     "data": {
      "text/plain": [
       "array([         0, 1075314688,          0, 1075576832,          0,\n",
       "       1075838976,          0, 1076035584], dtype=uint32)"
      ]
     },
     "execution_count": 7,
     "metadata": {},
     "output_type": "execute_result"
    }
   ],
   "source": [
    "# change the type of array \n",
    "float_arr = arr1.astype(np.float64)\n",
    "float_arr.dtype\n",
    "# if the value of string array is all number your could convert string array to float\n",
    "numeric_srings = np.array(['1.244', '23.44', '3232'], dtype=np.string_)\n",
    "numeric_srings.astype(np.float64)\n",
    "numeric_srings.dtype\n",
    "# another usage\n",
    "int_array = np.arange(10)\n",
    "calibers = np.array([.22, .270, .357, .380, .44, .50], dtype=np.float64)\n",
    "int_array.astype(calibers.dtype)\n",
    "int_array\n",
    "# a simple way to show dtype\n",
    "empty_32 = np.empty(8, dtype='u4')\n",
    "empty_32\n",
    "# astype will always create a new array even if the type is same"
   ]
  },
  {
   "cell_type": "markdown",
   "metadata": {},
   "source": [
    "### Arthmetic with numpy array\n",
    "\n",
    "1. Array could do vectorization\n",
    "2. any same shape of array will do arthemetic operation on each array element"
   ]
  },
  {
   "cell_type": "code",
   "execution_count": 8,
   "metadata": {},
   "outputs": [
    {
     "data": {
      "text/plain": [
       "array([[1.        , 0.5       , 0.33333333],\n",
       "       [0.25      , 0.2       , 0.16666667]])"
      ]
     },
     "execution_count": 8,
     "metadata": {},
     "output_type": "execute_result"
    }
   ],
   "source": [
    "arr = np.array([[1, 2, 3], [4, 5, 6]], dtype=np.float64)\n",
    "arr * arr\n",
    "arr - arr\n",
    "# also array opertaions will scalar will do for each element\n",
    "arr * 5\n",
    "1 / arr\n",
    "# operation on different sized of array is called broadcasting, in chapter 12"
   ]
  },
  {
   "cell_type": "markdown",
   "metadata": {},
   "source": [
    "#### Basic indexing and slicing"
   ]
  },
  {
   "cell_type": "code",
   "execution_count": 7,
   "metadata": {},
   "outputs": [
    {
     "data": {
      "text/plain": [
       "array([[1, 2],\n",
       "       [4, 5],\n",
       "       [7, 8]])"
      ]
     },
     "execution_count": 7,
     "metadata": {},
     "output_type": "execute_result"
    }
   ],
   "source": [
    "arr = np.arange(10)\n",
    "arr[5:8] = 12\n",
    "arr\n",
    "# the slicing is on the original array not the copy like list in python\n",
    "# so the array will be modified if you modify the slices\n",
    "arr_slice = arr[5:8]\n",
    "arr_slice[1] = -10\n",
    "arr\n",
    "# use copy to get a copy\n",
    "copy_arr = arr[5:8].copy()\n",
    "copy_arr[1] = 2\n",
    "arr\n",
    "# for 2d or md array\n",
    "arr2d = np.array([[1, 2, 3],[4, 5, 6], [7, 8, 9]])\n",
    "arr2d[2]\n",
    "# the two statements below is same\n",
    "arr2d[2, 2]\n",
    "arr2d[2][2]\n",
    "# row is axis 0 and column is axis 1\n",
    "arr3d = np.array([[[1, 2, 3], [4, 5, 6]], [[7, 8, 9], [10, 11, 12]]])\n",
    "arr3d[0]\n",
    "old_value = arr3d[0].copy()\n",
    "arr3d[0] = 42\n",
    "arr3d[0] = old_value\n",
    "arr3d[1, 1]\n",
    "\n",
    "# mupltile dimension array slice\n",
    "arr2d[:2, :2] # but it will return the same level of dimension array\n",
    "# use scalar and slice to get a lower level of dimension array\n",
    "arr2d[0, :2]\n",
    "# use : to mark all axis\n",
    "arr2d[:, :2]"
   ]
  },
  {
   "cell_type": "markdown",
   "metadata": {},
   "source": [
    "#### Boolean index\n",
    "\n",
    "1. Boolean index will always copy the array\n",
    "2. Slice and index does't copy the array"
   ]
  },
  {
   "cell_type": "code",
   "execution_count": 9,
   "metadata": {},
   "outputs": [
    {
     "data": {
      "text/plain": [
       "array([[-0.58726036, -0.83108421,  2.30374666, -0.71894052],\n",
       "       [-0.18224381, -1.26400934,  1.23785479, -0.95103091],\n",
       "       [ 0.31064416,  1.26214909,  0.16373784, -0.04943991],\n",
       "       [ 0.67597438, -1.48493899,  1.55383465,  0.41422312]])"
      ]
     },
     "execution_count": 9,
     "metadata": {},
     "output_type": "execute_result"
    }
   ],
   "source": [
    "names = np.array(['Bob', 'Joe', 'Will', 'Bob', 'Will', 'Joe', 'Joe'])\n",
    "names == 'Bob'\n",
    "# the length of boolean index should be as same as the length of axis of data\n",
    "data = np.random.randn(7, 4)\n",
    "# also could slice the array \n",
    "data[names == 'Bob', 2:]\n",
    "# could not use 'and' or 'or' in boolean index, should use & and |\n",
    "mask = (names == 'Bob') | (names == 'Will')\n",
    "data[mask]\n",
    "# Boolean index will copy the array "
   ]
  },
  {
   "cell_type": "markdown",
   "metadata": {},
   "source": [
    "#### Fancy Indexing\n",
    "\n",
    "1. Copy data to new array"
   ]
  },
  {
   "cell_type": "code",
   "execution_count": 10,
   "metadata": {},
   "outputs": [
    {
     "data": {
      "text/plain": [
       "array([ 4, 23, 29, 10])"
      ]
     },
     "execution_count": 10,
     "metadata": {},
     "output_type": "execute_result"
    }
   ],
   "source": [
    "arr = np.empty((8, 4))\n",
    "for i in range(8):\n",
    "    arr[i] = i\n",
    "arr\n",
    "# to choose row by specified order, just put a order array\n",
    "arr[[4, 3, 0, 6]]\n",
    "# also use negative index to choose row from tail\n",
    "arr[[-3, -1, -4]]\n",
    "# also you could pass a multiple index array to check (row, column) element in one array\n",
    "arr = np.arange(32).reshape((8, 4))\n",
    "arr[[1, 5, 7, 2], [0, 3, 1, 2]]\n",
    "# the result of fancy index is always one-dimension"
   ]
  },
  {
   "cell_type": "markdown",
   "metadata": {},
   "source": [
    "#### Array transpose and swapping axes"
   ]
  },
  {
   "cell_type": "code",
   "execution_count": 11,
   "metadata": {},
   "outputs": [
    {
     "data": {
      "text/plain": [
       "array([[[ 0,  4],\n",
       "        [ 1,  5],\n",
       "        [ 2,  6],\n",
       "        [ 3,  7]],\n",
       "\n",
       "       [[ 8, 12],\n",
       "        [ 9, 13],\n",
       "        [10, 14],\n",
       "        [11, 15]]])"
      ]
     },
     "execution_count": 11,
     "metadata": {},
     "output_type": "execute_result"
    }
   ],
   "source": [
    "arr = np.arange(15).reshape((3, 5))\n",
    "arr.T\n",
    "# use np.dot to calculate the innner matrix product\n",
    "np.dot(arr.T, arr)\n",
    "# for multiple dimension array, you need transpose function to set axis number to do swapping\n",
    "arr = np.arange(16).reshape((2, 2, 4))\n",
    "arr.transpose(1, 0, 2)\n",
    "# swapaxes accept a pair of axes\n",
    "arr.swapaxes(1, 2)"
   ]
  },
  {
   "cell_type": "markdown",
   "metadata": {},
   "source": [
    "#### Universal Funcitons\n",
    "\n",
    "1. make operation for each element in the ndarray"
   ]
  },
  {
   "cell_type": "code",
   "execution_count": 13,
   "metadata": {},
   "outputs": [
    {
     "name": "stderr",
     "output_type": "stream",
     "text": [
      "/home/gordontttt/anaconda3/lib/python3.7/site-packages/ipykernel_launcher.py:11: RuntimeWarning: divide by zero encountered in log\n",
      "  # This is added back by InteractiveShellApp.init_path()\n"
     ]
    },
    {
     "data": {
      "text/plain": [
       "array([False,  True,  True])"
      ]
     },
     "execution_count": 13,
     "metadata": {},
     "output_type": "execute_result"
    }
   ],
   "source": [
    "arr = np.arange(10)\n",
    "arr\n",
    "#unary function\n",
    "# abs and fabs, fabs is faster for non-complex number\n",
    "np.fabs(arr)\n",
    "# sqrt arr ** 0.5\n",
    "np.sqrt(arr)\n",
    "# exp to get the natural exponential result\n",
    "np.exp(arr)\n",
    "# log, log10, log2, log(1+x)\n",
    "np.log(arr)\n",
    "# ceil value - the minimum int that larger than it\n",
    "np.ceil(arr)\n",
    "# floor value - the maximum int that smaller than it\n",
    "np.floor(arr)\n",
    "# rint will 四舍五入\n",
    "np.rint(arr)\n",
    "# modf divide the int part and decimal part into two arrays\n",
    "np.modf(arr)\n",
    "# isnan check if any value is NaN\n",
    "np.isnan(arr)\n",
    "# isfinite, isinf check finite and infinite\n",
    "# cos, cosh, sin, sinh\n",
    "# tan, tanh\n",
    "# arccos, arccosh, arcsin, arcsinh, arctan, arctanh\n",
    "\n",
    "\n",
    "#binary function\n",
    "#add\n",
    "np.add([1, 2, 3], [2, 3, 4])\n",
    "#subtract\n",
    "np.subtract([1, 2, 3], [2, 3, 4])\n",
    "#multiply\n",
    "np.multiply([1, 2, 3], [2, 4, 5])\n",
    "#divide or floor_divide\n",
    "np.divide([1, 2, 3], [1, 2, 3])\n",
    "#power, A^B\n",
    "np.power([1, 2, 3], [1, 2, 3])\n",
    "#maximum, minimum, fmax, fmin the last two will ignore the NaN\n",
    "np.maximum([1, 2, 3], [2, -1, 4])\n",
    "# greater, greater_equal, less, less_equal, equal, not_equal will return a boolean array\n",
    "# logical_and, logical_or, logical_xor\n",
    "np.logical_and([1, 2, 3], [0, 2, 3])"
   ]
  },
  {
   "cell_type": "markdown",
   "metadata": {},
   "source": [
    "#### Array-Oriented Programming with Arrays\n",
    "\n",
    "1. Vectorization\n",
    "2. Faster than loop"
   ]
  },
  {
   "cell_type": "code",
   "execution_count": 36,
   "metadata": {},
   "outputs": [
    {
     "data": {
      "text/plain": [
       "<matplotlib.colorbar.Colorbar at 0x7fe3392870b8>"
      ]
     },
     "execution_count": 36,
     "metadata": {},
     "output_type": "execute_result"
    },
    {
     "data": {
      "image/png": "[encoded data removed]",
      "text/plain": [
       "<Figure size 432x288 with 2 Axes>"
      ]
     },
     "metadata": {
      "needs_background": "light"
     },
     "output_type": "display_data"
    }
   ],
   "source": [
    "points = np.arange(-5, 5, 0.01)\n",
    "points\n",
    "# use meshgrid to generate mesh grid\n",
    "xs, ys = np.meshgrid(points, points)\n",
    "z = np.sqrt(xs ** 2 + ys ** 2)\n",
    "plt.imshow(z, cmap=plt.cm.gray)\n",
    "plt.colorbar()\n"
   ]
  },
  {
   "cell_type": "markdown",
   "metadata": {},
   "source": [
    "#### Expression conditional logic as Array Operations"
   ]
  },
  {
   "cell_type": "code",
   "execution_count": 15,
   "metadata": {},
   "outputs": [
    {
     "data": {
      "text/plain": [
       "array([[ 2.        , -0.26871662, -0.18357054,  2.        ],\n",
       "       [-0.60725334, -0.83361042, -1.50633728, -0.83127795],\n",
       "       [ 2.        ,  2.        ,  2.        ,  2.        ],\n",
       "       [-0.04594711, -0.74415345,  2.        ,  2.        ]])"
      ]
     },
     "execution_count": 15,
     "metadata": {},
     "output_type": "execute_result"
    }
   ],
   "source": [
    "# x if condition else y in array we use np.where\n",
    "xarr = np.array([1.1, 2.2, 3.3, 4.4, 5.5])\n",
    "yarr = np.array([1.1, 1.2, 1.3, 1.4, 1.5])\n",
    "cond = np.array([True, False, True, False, True])\n",
    "data = np.where(cond, xarr, yarr)\n",
    "arr = np.random.randn(4, 4)\n",
    "np.where(arr > 0, 2, arr)"
   ]
  },
  {
   "cell_type": "markdown",
   "metadata": {},
   "source": [
    "### Mathmatic and Statistical Methods\n",
    "\n",
    "1. sum and mean function accept axis variable to calculate value on that axis\n",
    "2. 0 row axis\n",
    "3. 1 column axis"
   ]
  },
  {
   "cell_type": "code",
   "execution_count": 16,
   "metadata": {},
   "outputs": [
    {
     "data": {
      "text/plain": [
       "array([ 0.42756727,  1.17213014,  0.33865184,  0.19097416,  1.67402239,\n",
       "        1.66213787,  0.43819328,  0.62938738, -0.92452265, -0.72539211,\n",
       "       -0.38543775, -2.35615711, -1.87060369, -2.81618401, -1.93652333,\n",
       "       -2.3353982 , -0.54240359,  0.24657545, -0.40765351, -0.73631361])"
      ]
     },
     "execution_count": 16,
     "metadata": {},
     "output_type": "execute_result"
    }
   ],
   "source": [
    "arr = np.random.randn(5, 4)\n",
    "arr.mean()\n",
    "arr.std()\n",
    "arr.sum(1)\n",
    "arr.var()   # variance function\n",
    "arr.max()\n",
    "arr.min()\n",
    "arr.argmax()  # the index of the max value\n",
    "arr.argmin()  # the index of the min value\n",
    "arr.cumsum()"
   ]
  },
  {
   "cell_type": "markdown",
   "metadata": {},
   "source": [
    "#### For boolean index"
   ]
  },
  {
   "cell_type": "code",
   "execution_count": 76,
   "metadata": {},
   "outputs": [
    {
     "data": {
      "text/plain": [
       "False"
      ]
     },
     "execution_count": 76,
     "metadata": {},
     "output_type": "execute_result"
    }
   ],
   "source": [
    "# for true will be converted to 1, false will be converted to 0\n",
    "arr = np.random.randn(100)\n",
    "(arr > 0).sum()\n",
    "# any will check if there is an or multiple true \n",
    "# all will check if all is true\n",
    "bools = np.array([True, False, True])\n",
    "bools.any()\n",
    "bools.all()\n",
    "# for non-bool array, any element that is not 0 will be true, 0 will be false"
   ]
  },
  {
   "cell_type": "markdown",
   "metadata": {},
   "source": [
    "#### Sort "
   ]
  },
  {
   "cell_type": "code",
   "execution_count": 118,
   "metadata": {},
   "outputs": [
    {
     "name": "stdout",
     "output_type": "stream",
     "text": [
      "[[-0.27478373  1.63033525 -0.35781726 -1.32455205 -1.42806698]\n",
      " [-1.20640491 -0.84139137  0.39759556 -1.51611011 -1.01629247]\n",
      " [-0.96865844  1.92976985  1.14116589 -0.45736277  0.08689518]\n",
      " [-0.47522906 -1.092085   -0.63999981 -1.29589217  0.15877985]\n",
      " [ 0.61500619  2.15395808 -1.4512056   0.54971356  1.09247684]\n",
      " [ 0.23504296 -0.43725609 -0.28730709  2.30807634  0.28465502]\n",
      " [ 0.0878694   0.034597    0.95978724 -0.53169426 -0.82842191]\n",
      " [ 1.71240159 -0.75590034 -0.90244646  0.30595347 -0.25826821]]\n"
     ]
    }
   ],
   "source": [
    "arr = np.random.randn(8)\n",
    "arr.sort()\n",
    "# sort mulitple array need to pass the axis number\n",
    "arr = np.random.randn(8, 5)\n",
    "print(arr)\n",
    "# arr.sort(0)\n",
    "# arr.sort(1)"
   ]
  },
  {
   "cell_type": "code",
   "execution_count": 18,
   "metadata": {},
   "outputs": [
    {
     "data": {
      "text/plain": [
       "array([[ 2,  3,  4],\n",
       "       [-1,  3,  4]])"
      ]
     },
     "execution_count": 18,
     "metadata": {},
     "output_type": "execute_result"
    }
   ],
   "source": [
    "arr  = np.array([[4, 2, 3], [-1, 3, 4]])\n",
    "arr.sort(1)\n",
    "arr\n"
   ]
  },
  {
   "cell_type": "markdown",
   "metadata": {},
   "source": [
    "#### Unique and other set logic"
   ]
  },
  {
   "cell_type": "code",
   "execution_count": 21,
   "metadata": {},
   "outputs": [
    {
     "data": {
      "text/plain": [
       "array([4])"
      ]
     },
     "execution_count": 21,
     "metadata": {},
     "output_type": "execute_result"
    }
   ],
   "source": [
    "ints = np.array([1, 2, 3, 3, 4, 1, 2 ,2 ])\n",
    "np.unique(ints) # return ordered result\n",
    "# in1d will check if the value of an array appears in another array\n",
    "values = np.array([1, 2, 3])\n",
    "np.in1d(values, [2, 3, 4, 5, 6, 7])\n",
    "# intersect1d\n",
    "np.intersect1d(values, ints)\n",
    "# union1d\n",
    "np.union1d(values, ints)\n",
    "# setdiff1d in x but not in y\n",
    "np.setdiff1d(ints, values)\n",
    "# setxor1d(x, y) either in x or y\n",
    "np.setxor1d(ints, values)"
   ]
  },
  {
   "cell_type": "markdown",
   "metadata": {},
   "source": [
    "#### File input and output\n",
    "\n",
    "1. Numpy could read binary or text file"
   ]
  },
  {
   "cell_type": "code",
   "execution_count": 22,
   "metadata": {},
   "outputs": [
    {
     "name": "stdout",
     "output_type": "stream",
     "text": [
      "'Chapter 2 Introduction.ipynb'\t\t\t  ipython_log.py\r\n",
      "'Chapter 3 Jupyter Notebook Introduction.ipynb'   save_example.npy\r\n",
      "'Chapter 4 Numpy Foundation.ipynb'\t\t  savezip.npz\r\n",
      " Data\r\n"
     ]
    },
    {
     "data": {
      "text/plain": [
       "array([0, 1, 2, 3, 4, 5, 6, 7, 8, 9])"
      ]
     },
     "execution_count": 22,
     "metadata": {},
     "output_type": "execute_result"
    }
   ],
   "source": [
    "# save\n",
    "arr = np.arange(10)\n",
    "np.save('save_example', arr) # save to .npy file\n",
    "# load\n",
    "result = np.load('save_example.npy')\n",
    "result\n",
    "# save multiple array\n",
    "np.savez('savezip', x=arr, y=result)\n",
    "!ls\n",
    "# read likes dictionary \n",
    "data = np.load('savezip.npz')\n",
    "data['x']"
   ]
  },
  {
   "cell_type": "markdown",
   "metadata": {},
   "source": [
    "#### Read text file"
   ]
  },
  {
   "cell_type": "code",
   "execution_count": null,
   "metadata": {},
   "outputs": [],
   "source": [
    "np.loadtxt('test.text', delimiter=',')\n",
    "np.savetxt('test.text', delimiter=',')"
   ]
  },
  {
   "cell_type": "markdown",
   "metadata": {},
   "source": [
    "#### Linear Algebra\n",
    "\n",
    "1. Review the statistical machine learning notes"
   ]
  },
  {
   "cell_type": "code",
   "execution_count": 173,
   "metadata": {},
   "outputs": [
    {
     "data": {
      "text/plain": [
       "array([6., 9.])"
      ]
     },
     "execution_count": 173,
     "metadata": {},
     "output_type": "execute_result"
    }
   ],
   "source": [
    "# matrix dot product\n",
    "x = np.array([[1, 2, 3], [2, 3, 4]])\n",
    "y = np.array([[1, 2], [2, 3], [4, 5]])\n",
    "x.dot(y)\n",
    "np.dot(x, np.ones(3))"
   ]
  },
  {
   "cell_type": "code",
   "execution_count": 23,
   "metadata": {},
   "outputs": [
    {
     "data": {
      "text/plain": [
       "array([[ 1.00000000e+00, -2.77555756e-17,  5.55111512e-17,\n",
       "         8.88178420e-16,  3.33066907e-16],\n",
       "       [ 1.11022302e-16,  1.00000000e+00,  1.66533454e-16,\n",
       "         0.00000000e+00,  0.00000000e+00],\n",
       "       [ 2.22044605e-16,  1.04083409e-16,  1.00000000e+00,\n",
       "        -1.66533454e-16,  2.77555756e-17],\n",
       "       [-1.41553436e-15,  1.04083409e-17,  7.28583860e-17,\n",
       "         1.00000000e+00, -8.32667268e-17],\n",
       "       [-8.88178420e-16, -1.11022302e-16, -1.11022302e-16,\n",
       "         1.77635684e-15,  1.00000000e+00]])"
      ]
     },
     "execution_count": 23,
     "metadata": {},
     "output_type": "execute_result"
    }
   ],
   "source": [
    "X = np.random.randn(5, 5)\n",
    "mat = X.T.dot(X)\n",
    "mat.dot(np.linalg.inv(mat))"
   ]
  },
  {
   "cell_type": "markdown",
   "metadata": {},
   "source": [
    "#### Example: Random walk\n",
    "\n",
    "1. np.seed choose seed\n",
    "2. np.shuffle shuffle an ordered array\n",
    "3. np.rand generate an sample from even distribution\n",
    "4. np.randint generate an int from range\n",
    "5. np.randn generate from statandard normal distribution (pu = 0, sigma = 1) \n",
    "6. np.binomial generate from binomial distribution\n",
    "7. np.normal generate from normal distribution\n",
    "8. np.bear generate from beta distritubtion\n",
    "9. np.chisquare generate from chisquare distribution\n",
    "10. np.uniform generate from [0, 1)"
   ]
  },
  {
   "cell_type": "code",
   "execution_count": 24,
   "metadata": {},
   "outputs": [
    {
     "name": "stdout",
     "output_type": "stream",
     "text": [
      "739 ms ± 9.83 ms per loop (mean ± std. dev. of 7 runs, 1 loop each)\n"
     ]
    }
   ],
   "source": [
    "# get normal distribution randrom\n",
    "samples = np.random.normal(size=(4, 4))\n",
    "# python random could only generate one sample once\n",
    "# numpy random is fater\n",
    "N = 1000000\n",
    "from random import normalvariate\n",
    "%timeit [normalvariate(0, 1) for _ in range(N)]"
   ]
  },
  {
   "cell_type": "code",
   "execution_count": 25,
   "metadata": {},
   "outputs": [
    {
     "name": "stdout",
     "output_type": "stream",
     "text": [
      "37.9 ms ± 643 µs per loop (mean ± std. dev. of 7 runs, 10 loops each)\n"
     ]
    }
   ],
   "source": [
    "%timeit np.random.normal(size=N)"
   ]
  },
  {
   "cell_type": "code",
   "execution_count": 26,
   "metadata": {},
   "outputs": [
    {
     "data": {
      "text/plain": [
       "[<matplotlib.lines.Line2D at 0x7f594eb78d30>]"
      ]
     },
     "execution_count": 26,
     "metadata": {},
     "output_type": "execute_result"
    },
    {
     "data": {
      "image/png": "[encoded data removed]",
      "text/plain": [
       "<Figure size 432x288 with 1 Axes>"
      ]
     },
     "metadata": {
      "needs_background": "light"
     },
     "output_type": "display_data"
    }
   ],
   "source": [
    "# Random Walk Example\n",
    "import random\n",
    "position = 0\n",
    "walk = [position]\n",
    "steps = 1000\n",
    "for i in range(steps):\n",
    "    step = 1 if random.randint(0, 1) else -1\n",
    "    position += step\n",
    "    walk.append(position)\n",
    "plt.plot(walk)"
   ]
  },
  {
   "cell_type": "code",
   "execution_count": 27,
   "metadata": {},
   "outputs": [
    {
     "data": {
      "text/plain": [
       "12"
      ]
     },
     "execution_count": 27,
     "metadata": {},
     "output_type": "execute_result"
    },
    {
     "data": {
      "image/png": "[encoded data removed]",
      "text/plain": [
       "<Figure size 432x288 with 1 Axes>"
      ]
     },
     "metadata": {
      "needs_background": "light"
     },
     "output_type": "display_data"
    }
   ],
   "source": [
    "nsteps = 1000\n",
    "draws = np.random.randint(low=0, high=2, size=nsteps)\n",
    "steps = np.where(draws > 0, 1, -1)\n",
    "walk = steps.cumsum()\n",
    "plt.plot(walk)\n",
    "walk.min()\n",
    "walk.max()"
   ]
  },
  {
   "cell_type": "code",
   "execution_count": 28,
   "metadata": {},
   "outputs": [
    {
     "data": {
      "text/plain": [
       "106"
      ]
     },
     "execution_count": 28,
     "metadata": {},
     "output_type": "execute_result"
    }
   ],
   "source": [
    "(np.abs(walk) > 10).argmax() # True is the largest value"
   ]
  },
  {
   "cell_type": "code",
   "execution_count": 31,
   "metadata": {},
   "outputs": [
    {
     "data": {
      "text/plain": [
       "494.76628119293974"
      ]
     },
     "execution_count": 31,
     "metadata": {},
     "output_type": "execute_result"
    }
   ],
   "source": [
    "# For multiple simulation\n",
    "nwalks = 5000\n",
    "nsteps = 1000\n",
    "draw = np.random.randint(0, 2, size=(nwalks, nsteps))\n",
    "steps = np.where(draw > 0, 1, -1)\n",
    "walks = steps.cumsum(1)\n",
    "hit30 = (np.abs(walks > 30)).any(1)\n",
    "hit30.sum()\n",
    "crossing_times = (np.abs(walks[hit30]) >= 30).argmax(1)\n",
    "crossing_times.mean()"
   ]
  }
 ],
 "metadata": {
  "kernelspec": {
   "display_name": "Python 3",
   "language": "python",
   "name": "python3"
  },
  "language_info": {
   "codemirror_mode": {
    "name": "ipython",
    "version": 3
   },
   "file_extension": ".py",
   "mimetype": "text/x-python",
   "name": "python",
   "nbconvert_exporter": "python",
   "pygments_lexer": "ipython3",
   "version": "3.6.7"
  }
 },
 "nbformat": 4,
 "nbformat_minor": 2
}
